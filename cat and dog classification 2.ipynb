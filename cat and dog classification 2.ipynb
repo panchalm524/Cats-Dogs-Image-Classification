{
 "cells": [
  {
   "cell_type": "markdown",
   "metadata": {},
   "source": [
    "# Training the model"
   ]
  },
  {
   "cell_type": "code",
   "execution_count": 1,
   "metadata": {},
   "outputs": [],
   "source": [
    "import pickle"
   ]
  },
  {
   "cell_type": "code",
   "execution_count": 2,
   "metadata": {},
   "outputs": [],
   "source": [
    "x = pickle.load(open('x.pk1', 'rb'))             # loading the pickle file\n",
    "y = pickle.load(open('y.pk2', 'rb'))"
   ]
  },
  {
   "cell_type": "code",
   "execution_count": 3,
   "metadata": {},
   "outputs": [
    {
     "data": {
      "text/plain": [
       "array([[[117, 116, 117, ...,  95,  96, 101],\n",
       "        [125, 119, 109, ..., 105, 101,  98],\n",
       "        [107, 107, 102, ..., 101, 100, 100],\n",
       "        ...,\n",
       "        [157, 155, 155, ..., 128, 133, 133],\n",
       "        [121, 134, 135, ..., 135, 126, 143],\n",
       "        [139, 126, 119, ..., 123, 130, 130]],\n",
       "\n",
       "       [[133, 132, 133, ..., 142, 137, 140],\n",
       "        [136, 137, 137, ..., 147, 144, 145],\n",
       "        [134, 139, 142, ..., 146, 148, 147],\n",
       "        ...,\n",
       "        [211, 218, 223, ..., 243, 235, 239],\n",
       "        [212, 221, 215, ..., 240, 243, 243],\n",
       "        [217, 222, 222, ..., 245, 237, 242]],\n",
       "\n",
       "       [[ 95,  96,  80, ...,  18,  48,  37],\n",
       "        [ 68,  55,  95, ...,  46,  60,  55],\n",
       "        [ 71,  68,  48, ...,  48,  41,  27],\n",
       "        ...,\n",
       "        [ 85,  87,  89, ..., 149, 145, 121],\n",
       "        [ 72,  78,  76, ..., 155, 121, 131],\n",
       "        [ 67,  67,  65, ..., 128, 136, 124]],\n",
       "\n",
       "       ...,\n",
       "\n",
       "       [[ 44,  45,  52, ...,  36,  33,  31],\n",
       "        [ 45,  46,  51, ...,  36,  34,  32],\n",
       "        [ 46,  48,  51, ...,  36,  34,  32],\n",
       "        ...,\n",
       "        [ 66,  83,  83, ..., 254, 255, 255],\n",
       "        [ 74,  70,  76, ..., 255, 255, 255],\n",
       "        [ 65,  70,  76, ..., 255, 255, 255]],\n",
       "\n",
       "       [[ 89, 107,  83, ..., 150, 127, 178],\n",
       "        [155,  75,  83, ..., 140, 199, 131],\n",
       "        [132,  73,  92, ..., 129, 167, 142],\n",
       "        ...,\n",
       "        [227, 179, 164, ..., 185, 241, 196],\n",
       "        [189, 119, 156, ..., 210, 198, 206],\n",
       "        [195, 198, 165, ..., 189, 228, 229]],\n",
       "\n",
       "       [[153, 153, 153, ..., 127, 127, 127],\n",
       "        [158, 158, 158, ..., 127, 127, 127],\n",
       "        [151, 151, 151, ..., 127, 127, 127],\n",
       "        ...,\n",
       "        [102, 123, 132, ...,  14,  14,  14],\n",
       "        [147, 138, 136, ...,  13,  13,  14],\n",
       "        [140, 131, 152, ...,  23,  21,  21]]], dtype=uint8)"
      ]
     },
     "execution_count": 3,
     "metadata": {},
     "output_type": "execute_result"
    }
   ],
   "source": [
    "x                                               # read value in a arry in  pixcel form (R,G,B)\n",
    "                                                # reach value in between 0 - 255 "
   ]
  },
  {
   "cell_type": "code",
   "execution_count": 4,
   "metadata": {},
   "outputs": [
    {
     "data": {
      "text/plain": [
       "array([1, 0, 1, ..., 0, 0, 0])"
      ]
     },
     "execution_count": 4,
     "metadata": {},
     "output_type": "execute_result"
    }
   ],
   "source": [
    "y     # y values in form of 0 and 1  ..0(cat), 1(dog)"
   ]
  },
  {
   "cell_type": "code",
   "execution_count": 5,
   "metadata": {},
   "outputs": [],
   "source": [
    "# feature scalling helps in calculating and running a model in a faster way\n",
    "\n",
    "x = x/255"
   ]
  },
  {
   "cell_type": "code",
   "execution_count": 6,
   "metadata": {},
   "outputs": [
    {
     "data": {
      "text/plain": [
       "array([[[0.45882353, 0.45490196, 0.45882353, ..., 0.37254902,\n",
       "         0.37647059, 0.39607843],\n",
       "        [0.49019608, 0.46666667, 0.42745098, ..., 0.41176471,\n",
       "         0.39607843, 0.38431373],\n",
       "        [0.41960784, 0.41960784, 0.4       , ..., 0.39607843,\n",
       "         0.39215686, 0.39215686],\n",
       "        ...,\n",
       "        [0.61568627, 0.60784314, 0.60784314, ..., 0.50196078,\n",
       "         0.52156863, 0.52156863],\n",
       "        [0.4745098 , 0.5254902 , 0.52941176, ..., 0.52941176,\n",
       "         0.49411765, 0.56078431],\n",
       "        [0.54509804, 0.49411765, 0.46666667, ..., 0.48235294,\n",
       "         0.50980392, 0.50980392]],\n",
       "\n",
       "       [[0.52156863, 0.51764706, 0.52156863, ..., 0.55686275,\n",
       "         0.5372549 , 0.54901961],\n",
       "        [0.53333333, 0.5372549 , 0.5372549 , ..., 0.57647059,\n",
       "         0.56470588, 0.56862745],\n",
       "        [0.5254902 , 0.54509804, 0.55686275, ..., 0.57254902,\n",
       "         0.58039216, 0.57647059],\n",
       "        ...,\n",
       "        [0.82745098, 0.85490196, 0.8745098 , ..., 0.95294118,\n",
       "         0.92156863, 0.9372549 ],\n",
       "        [0.83137255, 0.86666667, 0.84313725, ..., 0.94117647,\n",
       "         0.95294118, 0.95294118],\n",
       "        [0.85098039, 0.87058824, 0.87058824, ..., 0.96078431,\n",
       "         0.92941176, 0.94901961]],\n",
       "\n",
       "       [[0.37254902, 0.37647059, 0.31372549, ..., 0.07058824,\n",
       "         0.18823529, 0.14509804],\n",
       "        [0.26666667, 0.21568627, 0.37254902, ..., 0.18039216,\n",
       "         0.23529412, 0.21568627],\n",
       "        [0.27843137, 0.26666667, 0.18823529, ..., 0.18823529,\n",
       "         0.16078431, 0.10588235],\n",
       "        ...,\n",
       "        [0.33333333, 0.34117647, 0.34901961, ..., 0.58431373,\n",
       "         0.56862745, 0.4745098 ],\n",
       "        [0.28235294, 0.30588235, 0.29803922, ..., 0.60784314,\n",
       "         0.4745098 , 0.51372549],\n",
       "        [0.2627451 , 0.2627451 , 0.25490196, ..., 0.50196078,\n",
       "         0.53333333, 0.48627451]],\n",
       "\n",
       "       ...,\n",
       "\n",
       "       [[0.17254902, 0.17647059, 0.20392157, ..., 0.14117647,\n",
       "         0.12941176, 0.12156863],\n",
       "        [0.17647059, 0.18039216, 0.2       , ..., 0.14117647,\n",
       "         0.13333333, 0.1254902 ],\n",
       "        [0.18039216, 0.18823529, 0.2       , ..., 0.14117647,\n",
       "         0.13333333, 0.1254902 ],\n",
       "        ...,\n",
       "        [0.25882353, 0.3254902 , 0.3254902 , ..., 0.99607843,\n",
       "         1.        , 1.        ],\n",
       "        [0.29019608, 0.2745098 , 0.29803922, ..., 1.        ,\n",
       "         1.        , 1.        ],\n",
       "        [0.25490196, 0.2745098 , 0.29803922, ..., 1.        ,\n",
       "         1.        , 1.        ]],\n",
       "\n",
       "       [[0.34901961, 0.41960784, 0.3254902 , ..., 0.58823529,\n",
       "         0.49803922, 0.69803922],\n",
       "        [0.60784314, 0.29411765, 0.3254902 , ..., 0.54901961,\n",
       "         0.78039216, 0.51372549],\n",
       "        [0.51764706, 0.28627451, 0.36078431, ..., 0.50588235,\n",
       "         0.65490196, 0.55686275],\n",
       "        ...,\n",
       "        [0.89019608, 0.70196078, 0.64313725, ..., 0.7254902 ,\n",
       "         0.94509804, 0.76862745],\n",
       "        [0.74117647, 0.46666667, 0.61176471, ..., 0.82352941,\n",
       "         0.77647059, 0.80784314],\n",
       "        [0.76470588, 0.77647059, 0.64705882, ..., 0.74117647,\n",
       "         0.89411765, 0.89803922]],\n",
       "\n",
       "       [[0.6       , 0.6       , 0.6       , ..., 0.49803922,\n",
       "         0.49803922, 0.49803922],\n",
       "        [0.61960784, 0.61960784, 0.61960784, ..., 0.49803922,\n",
       "         0.49803922, 0.49803922],\n",
       "        [0.59215686, 0.59215686, 0.59215686, ..., 0.49803922,\n",
       "         0.49803922, 0.49803922],\n",
       "        ...,\n",
       "        [0.4       , 0.48235294, 0.51764706, ..., 0.05490196,\n",
       "         0.05490196, 0.05490196],\n",
       "        [0.57647059, 0.54117647, 0.53333333, ..., 0.05098039,\n",
       "         0.05098039, 0.05490196],\n",
       "        [0.54901961, 0.51372549, 0.59607843, ..., 0.09019608,\n",
       "         0.08235294, 0.08235294]]])"
      ]
     },
     "execution_count": 6,
     "metadata": {},
     "output_type": "execute_result"
    }
   ],
   "source": [
    "x   # all valus converts 0 to 1"
   ]
  },
  {
   "cell_type": "code",
   "execution_count": 7,
   "metadata": {},
   "outputs": [
    {
     "data": {
      "text/plain": [
       "(23000, 60, 60)"
      ]
     },
     "execution_count": 7,
     "metadata": {},
     "output_type": "execute_result"
    }
   ],
   "source": [
    "x.shape    # 23000 is no if images , 60= width , 60 = hight , 3 = chanels R,G,B"
   ]
  },
  {
   "cell_type": "code",
   "execution_count": 8,
   "metadata": {},
   "outputs": [],
   "source": [
    "x = x.reshape(-1, 60, 60, 1)"
   ]
  },
  {
   "cell_type": "code",
   "execution_count": 11,
   "metadata": {},
   "outputs": [
    {
     "name": "stderr",
     "output_type": "stream",
     "text": [
      "Using TensorFlow backend.\n"
     ]
    }
   ],
   "source": [
    "import keras"
   ]
  },
  {
   "cell_type": "code",
   "execution_count": 9,
   "metadata": {},
   "outputs": [
    {
     "name": "stderr",
     "output_type": "stream",
     "text": [
      "Using TensorFlow backend.\n"
     ]
    }
   ],
   "source": [
    "\n",
    "from keras.models import Sequential\n",
    "from keras.layers import Conv2D, MaxPooling2D, Dense, Flatten"
   ]
  },
  {
   "cell_type": "markdown",
   "metadata": {},
   "source": [
    "##  Devloping model"
   ]
  },
  {
   "cell_type": "markdown",
   "metadata": {},
   "source": [
    " ### Design model"
   ]
  },
  {
   "cell_type": "code",
   "execution_count": 13,
   "metadata": {},
   "outputs": [
    {
     "name": "stdout",
     "output_type": "stream",
     "text": [
      "WARNING:tensorflow:From C:\\Users\\KINGFISH\\.conda\\envs\\tensorflow\\lib\\site-packages\\keras\\backend\\tensorflow_backend.py:74: The name tf.get_default_graph is deprecated. Please use tf.compat.v1.get_default_graph instead.\n",
      "\n"
     ]
    }
   ],
   "source": [
    "model = Sequential()\n",
    "\n",
    "\n",
    "# add first convulutaion n/w total 2 convulution layer added here written same codde two types\n",
    "\n",
    "model.add(Conv2D(64,(3,3), activation = 'relu'))  # 64=filters or feature detector, 3,3 = matrixs, relu is activation function \n",
    "model.add(MaxPooling2D((2,2)))                    # adding maxpooling \n",
    "\n",
    "model.add(Conv2D(64,(3,3), activation = 'relu'))  \n",
    "model.add(MaxPooling2D((2,2)))\n",
    "\n",
    "\n",
    "# Fltten\n",
    "model.add(Flatten())\n",
    "\n",
    "# one heden layer with 128 nuerons , x.shape [1:] means (23000, 100, 100, 3) considering from 100 to all\n",
    "model.add(Dense(128, input_shape = x.shape [1:], activation = 'relu'))  \n",
    "\n",
    "\n",
    "# output layer  2 nurons for cat and dog\n",
    "model.add(Dense(2, activation = 'softmax'))   \n",
    "\n"
   ]
  },
  {
   "cell_type": "code",
   "execution_count": 14,
   "metadata": {},
   "outputs": [
    {
     "name": "stdout",
     "output_type": "stream",
     "text": [
      "WARNING:tensorflow:From C:\\Users\\KINGFISH\\.conda\\envs\\tensorflow\\lib\\site-packages\\keras\\optimizers.py:790: The name tf.train.Optimizer is deprecated. Please use tf.compat.v1.train.Optimizer instead.\n",
      "\n"
     ]
    }
   ],
   "source": [
    "# add loss functions and optimizer \n",
    "model.compile(optimizer='adam',\n",
    "              loss='sparse_categorical_crossentropy',\n",
    "              metrics=['accuracy'])"
   ]
  },
  {
   "cell_type": "code",
   "execution_count": 15,
   "metadata": {},
   "outputs": [
    {
     "name": "stdout",
     "output_type": "stream",
     "text": [
      "WARNING:tensorflow:From C:\\Users\\KINGFISH\\.conda\\envs\\tensorflow\\lib\\site-packages\\keras\\backend\\tensorflow_backend.py:517: The name tf.placeholder is deprecated. Please use tf.compat.v1.placeholder instead.\n",
      "\n",
      "WARNING:tensorflow:From C:\\Users\\KINGFISH\\.conda\\envs\\tensorflow\\lib\\site-packages\\keras\\backend\\tensorflow_backend.py:4138: The name tf.random_uniform is deprecated. Please use tf.random.uniform instead.\n",
      "\n",
      "WARNING:tensorflow:From C:\\Users\\KINGFISH\\.conda\\envs\\tensorflow\\lib\\site-packages\\keras\\backend\\tensorflow_backend.py:3976: The name tf.nn.max_pool is deprecated. Please use tf.nn.max_pool2d instead.\n",
      "\n",
      "WARNING:tensorflow:From C:\\Users\\KINGFISH\\.conda\\envs\\tensorflow\\lib\\site-packages\\keras\\backend\\tensorflow_backend.py:3341: The name tf.log is deprecated. Please use tf.math.log instead.\n",
      "\n",
      "WARNING:tensorflow:From C:\\Users\\KINGFISH\\.conda\\envs\\tensorflow\\lib\\site-packages\\tensorflow_core\\python\\ops\\math_grad.py:1424: where (from tensorflow.python.ops.array_ops) is deprecated and will be removed in a future version.\n",
      "Instructions for updating:\n",
      "Use tf.where in 2.0, which has the same broadcast rule as np.where\n",
      "WARNING:tensorflow:From C:\\Users\\KINGFISH\\.conda\\envs\\tensorflow\\lib\\site-packages\\keras\\backend\\tensorflow_backend.py:986: The name tf.assign_add is deprecated. Please use tf.compat.v1.assign_add instead.\n",
      "\n",
      "WARNING:tensorflow:From C:\\Users\\KINGFISH\\.conda\\envs\\tensorflow\\lib\\site-packages\\keras\\backend\\tensorflow_backend.py:973: The name tf.assign is deprecated. Please use tf.compat.v1.assign instead.\n",
      "\n",
      "WARNING:tensorflow:From C:\\Users\\KINGFISH\\.conda\\envs\\tensorflow\\lib\\site-packages\\keras\\backend\\tensorflow_backend.py:2741: The name tf.Session is deprecated. Please use tf.compat.v1.Session instead.\n",
      "\n",
      "Train on 20700 samples, validate on 2300 samples\n",
      "Epoch 1/5\n",
      "WARNING:tensorflow:From C:\\Users\\KINGFISH\\.conda\\envs\\tensorflow\\lib\\site-packages\\keras\\backend\\tensorflow_backend.py:174: The name tf.get_default_session is deprecated. Please use tf.compat.v1.get_default_session instead.\n",
      "\n",
      "WARNING:tensorflow:From C:\\Users\\KINGFISH\\.conda\\envs\\tensorflow\\lib\\site-packages\\keras\\backend\\tensorflow_backend.py:181: The name tf.ConfigProto is deprecated. Please use tf.compat.v1.ConfigProto instead.\n",
      "\n",
      "WARNING:tensorflow:From C:\\Users\\KINGFISH\\.conda\\envs\\tensorflow\\lib\\site-packages\\keras\\backend\\tensorflow_backend.py:190: The name tf.global_variables is deprecated. Please use tf.compat.v1.global_variables instead.\n",
      "\n",
      "WARNING:tensorflow:From C:\\Users\\KINGFISH\\.conda\\envs\\tensorflow\\lib\\site-packages\\keras\\backend\\tensorflow_backend.py:199: The name tf.is_variable_initialized is deprecated. Please use tf.compat.v1.is_variable_initialized instead.\n",
      "\n",
      "WARNING:tensorflow:From C:\\Users\\KINGFISH\\.conda\\envs\\tensorflow\\lib\\site-packages\\keras\\backend\\tensorflow_backend.py:206: The name tf.variables_initializer is deprecated. Please use tf.compat.v1.variables_initializer instead.\n",
      "\n",
      "20700/20700 [==============================] - 102s 5ms/step - loss: 0.6367 - acc: 0.6296 - val_loss: 0.5494 - val_acc: 0.7239\n",
      "Epoch 2/5\n",
      "20700/20700 [==============================] - 104s 5ms/step - loss: 0.5248 - acc: 0.7396 - val_loss: 0.5023 - val_acc: 0.7500\n",
      "Epoch 3/5\n",
      "20700/20700 [==============================] - 104s 5ms/step - loss: 0.4674 - acc: 0.7748 - val_loss: 0.4987 - val_acc: 0.7543\n",
      "Epoch 4/5\n",
      "20700/20700 [==============================] - 106s 5ms/step - loss: 0.4115 - acc: 0.8100 - val_loss: 0.4546 - val_acc: 0.7748\n",
      "Epoch 5/5\n",
      "20700/20700 [==============================] - 103s 5ms/step - loss: 0.3562 - acc: 0.8405 - val_loss: 0.4351 - val_acc: 0.8000\n"
     ]
    },
    {
     "data": {
      "text/plain": [
       "<keras.callbacks.History at 0x289cc490f48>"
      ]
     },
     "execution_count": 15,
     "metadata": {},
     "output_type": "execute_result"
    }
   ],
   "source": [
    "# Fit the model             Validation_split = part of the data is taken for validation\n",
    "model.fit(x, y, epochs = 5, validation_split = 0.1 ) "
   ]
  },
  {
   "cell_type": "code",
   "execution_count": null,
   "metadata": {},
   "outputs": [],
   "source": [
    "#  accurecy is 84% and the val-accuracy = 80% \n",
    "# both accurecy and val-accuracy  should not have much of deviation, if much deviation then \n",
    "# tunning procedure will take further"
   ]
  },
  {
   "cell_type": "code",
   "execution_count": 17,
   "metadata": {},
   "outputs": [
    {
     "data": {
      "text/plain": [
       "(23000, 60, 60, 1)"
      ]
     },
     "execution_count": 17,
     "metadata": {},
     "output_type": "execute_result"
    }
   ],
   "source": [
    "x.shape"
   ]
  },
  {
   "cell_type": "code",
   "execution_count": 18,
   "metadata": {},
   "outputs": [
    {
     "data": {
      "text/plain": [
       "1627300348.9172175"
      ]
     },
     "execution_count": 18,
     "metadata": {},
     "output_type": "execute_result"
    }
   ],
   "source": [
    "import time\n",
    "\n",
    "time.time()"
   ]
  },
  {
   "cell_type": "code",
   "execution_count": 19,
   "metadata": {},
   "outputs": [
    {
     "data": {
      "text/plain": [
       "float"
      ]
     },
     "execution_count": 19,
     "metadata": {},
     "output_type": "execute_result"
    }
   ],
   "source": [
    "type(1581428129.5990093)"
   ]
  },
  {
   "cell_type": "code",
   "execution_count": null,
   "metadata": {},
   "outputs": [],
   "source": [
    "model.summary()"
   ]
  },
  {
   "cell_type": "code",
   "execution_count": 19,
   "metadata": {},
   "outputs": [],
   "source": [
    "#from tensorflow.keras.models import load_model\n",
    "\n",
    "#model.save('model_cat_dog.h5')"
   ]
  },
  {
   "cell_type": "code",
   "execution_count": 36,
   "metadata": {},
   "outputs": [
    {
     "name": "stdout",
     "output_type": "stream",
     "text": [
      "WARNING:tensorflow:From C:\\Users\\KINGFISH\\.conda\\envs\\tensorflow\\lib\\site-packages\\tensorflow_core\\python\\ops\\resource_variable_ops.py:1630: calling BaseResourceVariable.__init__ (from tensorflow.python.ops.resource_variable_ops) with constraint is deprecated and will be removed in a future version.\n",
      "Instructions for updating:\n",
      "If using Keras pass *_constraint arguments to layers.\n",
      "WARNING:tensorflow:Sequential models without an `input_shape` passed to the first layer cannot reload their optimizer state. As a result, your model isstarting with a freshly initialized optimizer.\n"
     ]
    }
   ],
   "source": [
    "#from tensorflow.keras.models import load_model\n",
    " \n",
    "# load model\n",
    "#model = load_model('model_cat_dog.h5')"
   ]
  },
  {
   "cell_type": "code",
   "execution_count": 53,
   "metadata": {},
   "outputs": [
    {
     "name": "stdout",
     "output_type": "stream",
     "text": [
      "_________________________________________________________________\n",
      "Layer (type)                 Output Shape              Param #   \n",
      "=================================================================\n",
      "conv2d_1 (Conv2D)            (None, 58, 58, 64)        640       \n",
      "_________________________________________________________________\n",
      "max_pooling2d_1 (MaxPooling2 (None, 29, 29, 64)        0         \n",
      "_________________________________________________________________\n",
      "conv2d_2 (Conv2D)            (None, 27, 27, 64)        36928     \n",
      "_________________________________________________________________\n",
      "max_pooling2d_2 (MaxPooling2 (None, 13, 13, 64)        0         \n",
      "_________________________________________________________________\n",
      "flatten_1 (Flatten)          (None, 10816)             0         \n",
      "_________________________________________________________________\n",
      "dense_1 (Dense)              (None, 128)               1384576   \n",
      "_________________________________________________________________\n",
      "dense_2 (Dense)              (None, 2)                 258       \n",
      "=================================================================\n",
      "Total params: 1,422,402\n",
      "Trainable params: 1,422,402\n",
      "Non-trainable params: 0\n",
      "_________________________________________________________________\n"
     ]
    }
   ],
   "source": [
    "model.summary()"
   ]
  },
  {
   "cell_type": "code",
   "execution_count": 54,
   "metadata": {},
   "outputs": [],
   "source": [
    "model.save('3x3x64-catvsdog.model')"
   ]
  },
  {
   "cell_type": "code",
   "execution_count": null,
   "metadata": {},
   "outputs": [],
   "source": []
  }
 ],
 "metadata": {
  "kernelspec": {
   "display_name": "Python 3",
   "language": "python",
   "name": "python3"
  },
  "language_info": {
   "codemirror_mode": {
    "name": "ipython",
    "version": 3
   },
   "file_extension": ".py",
   "mimetype": "text/x-python",
   "name": "python",
   "nbconvert_exporter": "python",
   "pygments_lexer": "ipython3",
   "version": "3.7.6"
  }
 },
 "nbformat": 4,
 "nbformat_minor": 4
}
